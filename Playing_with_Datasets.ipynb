{
 "cells": [
  {
   "cell_type": "markdown",
   "id": "6b9112cc-df47-4ab8-aeaa-72dded4bdc9d",
   "metadata": {},
   "source": [
    "# Playing around with Datasets"
   ]
  },
  {
   "cell_type": "code",
   "execution_count": 1,
   "id": "5e531162-e257-4d6b-8b8f-c11f472a0bd2",
   "metadata": {},
   "outputs": [],
   "source": [
    "# Importing the python packages required\n",
    "import pandas as pd"
   ]
  },
  {
   "cell_type": "markdown",
   "id": "a2f3e3ee-7286-4c3c-9b8b-715ed27e2f59",
   "metadata": {},
   "source": [
    "## Irish Weather Data\n",
    "I found this dataset on kaggle.com. It is the daily weather (temp, precipitation, ..) from 25 weather stations across Ireland from the start of their recordings until 2018. Note: Earliest recordings from about 1965, some are only from 2003.\n",
    "Let's Explore"
   ]
  },
  {
   "cell_type": "code",
   "execution_count": 26,
   "id": "77398351-a06d-46e8-b03a-ccca680c0f40",
   "metadata": {},
   "outputs": [],
   "source": [
    "# Reading in csv file stored locally \n",
    "# Setting the low_memory = False, since it complains otherwise. \n",
    "# Setting the type per colum didn't work\n",
    "# Playong around with different datasets - 1. 'hrly_Irish_weather.csv \n",
    "#                                          2. aggregated_hourly_data.csv\n",
    "    \n",
    "irish_weather = pd.read_csv('aggregated_hourly_data.csv', low_memory = False)"
   ]
  },
  {
   "cell_type": "code",
   "execution_count": 27,
   "id": "cf4fc901-ab34-4c64-9490-ef05cdf23e68",
   "metadata": {},
   "outputs": [
    {
     "name": "stdout",
     "output_type": "stream",
     "text": [
      "   Unnamed: 0                 date  ind  rain  ind.1  temp  ind.2  wetb  \\\n",
      "0           0  2007-12-31 02:00:00    0   0.0      0   9.2      0   8.0   \n",
      "1           1  2007-12-31 03:00:00    0   0.0      0   9.3      0   7.8   \n",
      "2           2  2007-12-31 04:00:00    0   0.0      0   9.3      0   7.7   \n",
      "3           3  2007-12-31 05:00:00    0   0.0      0   9.6      0   8.3   \n",
      "4           4  2007-12-31 06:00:00    0   0.0      0   9.8      0   8.5   \n",
      "\n",
      "   dewpt  vappr  ...  sun  vis  clht  clamt  county  st_id       st_name  \\\n",
      "0    6.6    9.8  ...  NaN  NaN   NaN    NaN  Dublin    175  phoenix_park   \n",
      "1    5.9    9.3  ...  NaN  NaN   NaN    NaN  Dublin    175  phoenix_park   \n",
      "2    5.8    9.2  ...  NaN  NaN   NaN    NaN  Dublin    175  phoenix_park   \n",
      "3    6.8    9.9  ...  NaN  NaN   NaN    NaN  Dublin    175  phoenix_park   \n",
      "4    7.1   10.1  ...  NaN  NaN   NaN    NaN  Dublin    175  phoenix_park   \n",
      "\n",
      "   st_height  st_lat  st_long  \n",
      "0         48  532149    62059  \n",
      "1         48  532149    62059  \n",
      "2         48  532149    62059  \n",
      "3         48  532149    62059  \n",
      "4         48  532149    62059  \n",
      "\n",
      "[5 rows x 28 columns]\n"
     ]
    }
   ],
   "source": [
    "print (irish_weather.head())"
   ]
  },
  {
   "cell_type": "code",
   "execution_count": 28,
   "id": "c62080cc-132a-4d01-b9e6-84d7d088ab77",
   "metadata": {},
   "outputs": [
    {
     "name": "stdout",
     "output_type": "stream",
     "text": [
      "Unnamed: 0      int64\n",
      "date           object\n",
      "ind             int64\n",
      "rain          float64\n",
      "ind.1           int64\n",
      "temp          float64\n",
      "ind.2           int64\n",
      "wetb          float64\n",
      "dewpt         float64\n",
      "vappr         float64\n",
      "rhum          float64\n",
      "msl           float64\n",
      "ind.3         float64\n",
      "wdsp          float64\n",
      "ind.4         float64\n",
      "wddir         float64\n",
      "ww            float64\n",
      "w             float64\n",
      "sun           float64\n",
      "vis           float64\n",
      "clht          float64\n",
      "clamt         float64\n",
      "county         object\n",
      "st_id           int64\n",
      "st_name        object\n",
      "st_height       int64\n",
      "st_lat          int64\n",
      "st_long         int64\n",
      "dtype: object\n"
     ]
    }
   ],
   "source": [
    "print (irish_weather.dtypes)"
   ]
  },
  {
   "cell_type": "code",
   "execution_count": 20,
   "id": "65c19ee7-0d33-4cf9-b74c-6339f53bdfdd",
   "metadata": {},
   "outputs": [],
   "source": [
    "irish_weather = pd.read_csv ('hrly_Irish_weather.csv', dtype = {'county': str, 'station' : str, 'latitude' : float , 'longitude' : float, \n",
    "          'date' : str, 'rain' : str, 'temp' : str, 'wetb' : str, 'dewpt' : str, \n",
    "          'vappr' : str, 'rhum' : str, 'msl' : str , 'wdsp' : str ,'wddir' : str ,\n",
    "          'sun' : str ,'vis' : str ,'clht' : str , 'clamt' : str})"
   ]
  },
  {
   "cell_type": "code",
   "execution_count": 29,
   "id": "9a803721-d18b-456c-b0d1-34630d342cf8",
   "metadata": {},
   "outputs": [
    {
     "name": "stdout",
     "output_type": "stream",
     "text": [
      "   Unnamed: 0                 date  ind  rain  ind.1  temp  ind.2  wetb  \\\n",
      "0           0  2007-12-31 02:00:00    0   0.0      0   9.2      0   8.0   \n",
      "1           1  2007-12-31 03:00:00    0   0.0      0   9.3      0   7.8   \n",
      "2           2  2007-12-31 04:00:00    0   0.0      0   9.3      0   7.7   \n",
      "3           3  2007-12-31 05:00:00    0   0.0      0   9.6      0   8.3   \n",
      "4           4  2007-12-31 06:00:00    0   0.0      0   9.8      0   8.5   \n",
      "\n",
      "   dewpt  vappr  ...  sun  vis  clht  clamt  county  st_id       st_name  \\\n",
      "0    6.6    9.8  ...  NaN  NaN   NaN    NaN  Dublin    175  phoenix_park   \n",
      "1    5.9    9.3  ...  NaN  NaN   NaN    NaN  Dublin    175  phoenix_park   \n",
      "2    5.8    9.2  ...  NaN  NaN   NaN    NaN  Dublin    175  phoenix_park   \n",
      "3    6.8    9.9  ...  NaN  NaN   NaN    NaN  Dublin    175  phoenix_park   \n",
      "4    7.1   10.1  ...  NaN  NaN   NaN    NaN  Dublin    175  phoenix_park   \n",
      "\n",
      "   st_height  st_lat  st_long  \n",
      "0         48  532149    62059  \n",
      "1         48  532149    62059  \n",
      "2         48  532149    62059  \n",
      "3         48  532149    62059  \n",
      "4         48  532149    62059  \n",
      "\n",
      "[5 rows x 28 columns]\n"
     ]
    }
   ],
   "source": [
    "print (irish_weather.head())"
   ]
  },
  {
   "cell_type": "code",
   "execution_count": 17,
   "id": "ed0c463f-b805-43aa-b6ca-7ed471f42d32",
   "metadata": {},
   "outputs": [
    {
     "name": "stdout",
     "output_type": "stream",
     "text": [
      "county        object\n",
      "station       object\n",
      "latitude     float64\n",
      "longitude    float64\n",
      "date          object\n",
      "rain          object\n",
      "temp          object\n",
      "wetb          object\n",
      "dewpt         object\n",
      "vappr         object\n",
      "rhum          object\n",
      "msl           object\n",
      "wdsp          object\n",
      "wddir         object\n",
      "sun           object\n",
      "vis           object\n",
      "clht          object\n",
      "clamt         object\n",
      "dtype: object\n"
     ]
    }
   ],
   "source": [
    "print (irish_weather.dtypes)"
   ]
  },
  {
   "cell_type": "code",
   "execution_count": 30,
   "id": "5f6f8e2f-586b-4ee9-a0c3-615ddbee1b59",
   "metadata": {},
   "outputs": [
    {
     "name": "stdout",
     "output_type": "stream",
     "text": [
      "<class 'pandas.core.frame.DataFrame'>\n",
      "RangeIndex: 2962043 entries, 0 to 2962042\n",
      "Data columns (total 28 columns):\n",
      " #   Column      Dtype  \n",
      "---  ------      -----  \n",
      " 0   Unnamed: 0  int64  \n",
      " 1   date        object \n",
      " 2   ind         int64  \n",
      " 3   rain        float64\n",
      " 4   ind.1       int64  \n",
      " 5   temp        float64\n",
      " 6   ind.2       int64  \n",
      " 7   wetb        float64\n",
      " 8   dewpt       float64\n",
      " 9   vappr       float64\n",
      " 10  rhum        float64\n",
      " 11  msl         float64\n",
      " 12  ind.3       float64\n",
      " 13  wdsp        float64\n",
      " 14  ind.4       float64\n",
      " 15  wddir       float64\n",
      " 16  ww          float64\n",
      " 17  w           float64\n",
      " 18  sun         float64\n",
      " 19  vis         float64\n",
      " 20  clht        float64\n",
      " 21  clamt       float64\n",
      " 22  county      object \n",
      " 23  st_id       int64  \n",
      " 24  st_name     object \n",
      " 25  st_height   int64  \n",
      " 26  st_lat      int64  \n",
      " 27  st_long     int64  \n",
      "dtypes: float64(17), int64(8), object(3)\n",
      "memory usage: 632.8+ MB\n",
      "None\n"
     ]
    }
   ],
   "source": [
    "print(irish_weather.info())"
   ]
  },
  {
   "cell_type": "code",
   "execution_count": 31,
   "id": "ebdc3970-6a27-4435-8e62-a4fec45a75fe",
   "metadata": {},
   "outputs": [
    {
     "name": "stdout",
     "output_type": "stream",
     "text": [
      "         Unnamed: 0           ind          rain         ind.1          temp  \\\n",
      "count  2.962043e+06  2.962043e+06  2.935663e+06  2.962043e+06  2.959926e+06   \n",
      "mean   1.481021e+06  2.255933e-01  1.278044e-01  8.174426e-03  9.934890e+00   \n",
      "std    8.550683e+05  9.540711e-01  4.875404e-01  1.293499e-01  4.796106e+00   \n",
      "min    0.000000e+00 -1.000000e+00  0.000000e+00  0.000000e+00 -1.730000e+01   \n",
      "25%    7.405105e+05  0.000000e+00  0.000000e+00  0.000000e+00  6.700000e+00   \n",
      "50%    1.481021e+06  0.000000e+00  0.000000e+00  0.000000e+00  1.010000e+01   \n",
      "75%    2.221532e+06  0.000000e+00  0.000000e+00  0.000000e+00  1.340000e+01   \n",
      "max    2.962042e+06  8.000000e+00  4.140000e+01  4.000000e+00  3.150000e+01   \n",
      "\n",
      "              ind.2          wetb         dewpt         vappr          rhum  \\\n",
      "count  2.962043e+06  2.958805e+06  2.958936e+06  2.933313e+06  2.934361e+06   \n",
      "mean   1.262068e-02  8.624017e+00  7.183330e+00  1.057122e+01  8.365543e+01   \n",
      "std    1.786757e-01  4.398357e+00  4.526514e+00  3.181859e+00  1.180578e+01   \n",
      "min    0.000000e+00 -9.990000e+01 -1.870000e+01  1.400000e+00  2.000000e+01   \n",
      "25%    0.000000e+00  5.600000e+00  3.900000e+00  8.100000e+00  7.700000e+01   \n",
      "50%    0.000000e+00  8.900000e+00  7.400000e+00  1.030000e+01  8.600000e+01   \n",
      "75%    0.000000e+00  1.190000e+01  1.060000e+01  1.270000e+01  9.300000e+01   \n",
      "max    6.000000e+00  2.380000e+01  2.250000e+01  2.720000e+01  1.000000e+02   \n",
      "\n",
      "       ...             ww              w            sun            vis  \\\n",
      "count  ...  669587.000000  669586.000000  712743.000000  662524.000000   \n",
      "mean   ...      17.006486      33.166534       0.155844   26919.268691   \n",
      "std    ...      23.582925      28.756767       0.316470   15136.736369   \n",
      "min    ...       0.000000       0.000000       0.000000       5.000000   \n",
      "25%    ...       2.000000      11.000000       0.000000   17000.000000   \n",
      "50%    ...       2.000000      11.000000       0.000000   25000.000000   \n",
      "75%    ...      25.000000      62.000000       0.100000   40000.000000   \n",
      "max    ...      97.000000      99.000000       1.000000   75000.000000   \n",
      "\n",
      "                clht          clamt         st_id     st_height        st_lat  \\\n",
      "count  712738.000000  712738.000000  2.962043e+06  2.962043e+06  2.962043e+06   \n",
      "mean      251.403396       5.825856  1.580524e+03  5.913324e+01  5.305150e+05   \n",
      "std       393.416669       2.376519  1.191509e+03  4.444958e+01  9.813818e+03   \n",
      "min         0.000000       0.000000  1.750000e+02  9.000000e+00  5.128350e+05   \n",
      "25%        16.000000       5.000000  5.750000e+02  2.200000e+01  5.217520e+05   \n",
      "50%        40.000000       7.000000  1.275000e+03  4.800000e+01  5.321490e+05   \n",
      "75%       200.000000       8.000000  2.175000e+03  7.800000e+01  5.354220e+05   \n",
      "max       999.000000       9.000000  4.935000e+03  2.010000e+02  5.522190e+05   \n",
      "\n",
      "            st_long  \n",
      "count  2.962043e+06  \n",
      "mean   7.914620e+04  \n",
      "std    1.202449e+04  \n",
      "min    6.142700e+04  \n",
      "25%    6.545500e+04  \n",
      "50%    8.144000e+04  \n",
      "75%    8.593300e+04  \n",
      "max    1.014270e+05  \n",
      "\n",
      "[8 rows x 25 columns]\n"
     ]
    }
   ],
   "source": [
    "print (irish_weather.describe())"
   ]
  },
  {
   "cell_type": "code",
   "execution_count": 24,
   "id": "dda98768-4ced-4720-a82b-1da15cdacc63",
   "metadata": {},
   "outputs": [
    {
     "ename": "ValueError",
     "evalue": "could not convert string to float: ' '",
     "output_type": "error",
     "traceback": [
      "\u001b[1;31m---------------------------------------------------------------------------\u001b[0m",
      "\u001b[1;31mValueError\u001b[0m                                Traceback (most recent call last)",
      "Cell \u001b[1;32mIn[24], line 1\u001b[0m\n\u001b[1;32m----> 1\u001b[0m irish_weather[\u001b[38;5;124m'\u001b[39m\u001b[38;5;124mtemp\u001b[39m\u001b[38;5;124m'\u001b[39m] \u001b[38;5;241m=\u001b[39m \u001b[43mirish_weather\u001b[49m\u001b[43m \u001b[49m\u001b[43m[\u001b[49m\u001b[38;5;124;43m'\u001b[39;49m\u001b[38;5;124;43mtemp\u001b[39;49m\u001b[38;5;124;43m'\u001b[39;49m\u001b[43m]\u001b[49m\u001b[38;5;241;43m.\u001b[39;49m\u001b[43mastype\u001b[49m\u001b[43m(\u001b[49m\u001b[38;5;28;43mfloat\u001b[39;49m\u001b[43m)\u001b[49m\n",
      "File \u001b[1;32m~\\anaconda3\\lib\\site-packages\\pandas\\core\\generic.py:6240\u001b[0m, in \u001b[0;36mNDFrame.astype\u001b[1;34m(self, dtype, copy, errors)\u001b[0m\n\u001b[0;32m   6233\u001b[0m     results \u001b[38;5;241m=\u001b[39m [\n\u001b[0;32m   6234\u001b[0m         \u001b[38;5;28mself\u001b[39m\u001b[38;5;241m.\u001b[39miloc[:, i]\u001b[38;5;241m.\u001b[39mastype(dtype, copy\u001b[38;5;241m=\u001b[39mcopy)\n\u001b[0;32m   6235\u001b[0m         \u001b[38;5;28;01mfor\u001b[39;00m i \u001b[38;5;129;01min\u001b[39;00m \u001b[38;5;28mrange\u001b[39m(\u001b[38;5;28mlen\u001b[39m(\u001b[38;5;28mself\u001b[39m\u001b[38;5;241m.\u001b[39mcolumns))\n\u001b[0;32m   6236\u001b[0m     ]\n\u001b[0;32m   6238\u001b[0m \u001b[38;5;28;01melse\u001b[39;00m:\n\u001b[0;32m   6239\u001b[0m     \u001b[38;5;66;03m# else, only a single dtype is given\u001b[39;00m\n\u001b[1;32m-> 6240\u001b[0m     new_data \u001b[38;5;241m=\u001b[39m \u001b[38;5;28;43mself\u001b[39;49m\u001b[38;5;241;43m.\u001b[39;49m\u001b[43m_mgr\u001b[49m\u001b[38;5;241;43m.\u001b[39;49m\u001b[43mastype\u001b[49m\u001b[43m(\u001b[49m\u001b[43mdtype\u001b[49m\u001b[38;5;241;43m=\u001b[39;49m\u001b[43mdtype\u001b[49m\u001b[43m,\u001b[49m\u001b[43m \u001b[49m\u001b[43mcopy\u001b[49m\u001b[38;5;241;43m=\u001b[39;49m\u001b[43mcopy\u001b[49m\u001b[43m,\u001b[49m\u001b[43m \u001b[49m\u001b[43merrors\u001b[49m\u001b[38;5;241;43m=\u001b[39;49m\u001b[43merrors\u001b[49m\u001b[43m)\u001b[49m\n\u001b[0;32m   6241\u001b[0m     \u001b[38;5;28;01mreturn\u001b[39;00m \u001b[38;5;28mself\u001b[39m\u001b[38;5;241m.\u001b[39m_constructor(new_data)\u001b[38;5;241m.\u001b[39m__finalize__(\u001b[38;5;28mself\u001b[39m, method\u001b[38;5;241m=\u001b[39m\u001b[38;5;124m\"\u001b[39m\u001b[38;5;124mastype\u001b[39m\u001b[38;5;124m\"\u001b[39m)\n\u001b[0;32m   6243\u001b[0m \u001b[38;5;66;03m# GH 33113: handle empty frame or series\u001b[39;00m\n",
      "File \u001b[1;32m~\\anaconda3\\lib\\site-packages\\pandas\\core\\internals\\managers.py:448\u001b[0m, in \u001b[0;36mBaseBlockManager.astype\u001b[1;34m(self, dtype, copy, errors)\u001b[0m\n\u001b[0;32m    447\u001b[0m \u001b[38;5;28;01mdef\u001b[39;00m \u001b[38;5;21mastype\u001b[39m(\u001b[38;5;28mself\u001b[39m: T, dtype, copy: \u001b[38;5;28mbool\u001b[39m \u001b[38;5;241m=\u001b[39m \u001b[38;5;28;01mFalse\u001b[39;00m, errors: \u001b[38;5;28mstr\u001b[39m \u001b[38;5;241m=\u001b[39m \u001b[38;5;124m\"\u001b[39m\u001b[38;5;124mraise\u001b[39m\u001b[38;5;124m\"\u001b[39m) \u001b[38;5;241m-\u001b[39m\u001b[38;5;241m>\u001b[39m T:\n\u001b[1;32m--> 448\u001b[0m     \u001b[38;5;28;01mreturn\u001b[39;00m \u001b[38;5;28;43mself\u001b[39;49m\u001b[38;5;241;43m.\u001b[39;49m\u001b[43mapply\u001b[49m\u001b[43m(\u001b[49m\u001b[38;5;124;43m\"\u001b[39;49m\u001b[38;5;124;43mastype\u001b[39;49m\u001b[38;5;124;43m\"\u001b[39;49m\u001b[43m,\u001b[49m\u001b[43m \u001b[49m\u001b[43mdtype\u001b[49m\u001b[38;5;241;43m=\u001b[39;49m\u001b[43mdtype\u001b[49m\u001b[43m,\u001b[49m\u001b[43m \u001b[49m\u001b[43mcopy\u001b[49m\u001b[38;5;241;43m=\u001b[39;49m\u001b[43mcopy\u001b[49m\u001b[43m,\u001b[49m\u001b[43m \u001b[49m\u001b[43merrors\u001b[49m\u001b[38;5;241;43m=\u001b[39;49m\u001b[43merrors\u001b[49m\u001b[43m)\u001b[49m\n",
      "File \u001b[1;32m~\\anaconda3\\lib\\site-packages\\pandas\\core\\internals\\managers.py:352\u001b[0m, in \u001b[0;36mBaseBlockManager.apply\u001b[1;34m(self, f, align_keys, ignore_failures, **kwargs)\u001b[0m\n\u001b[0;32m    350\u001b[0m         applied \u001b[38;5;241m=\u001b[39m b\u001b[38;5;241m.\u001b[39mapply(f, \u001b[38;5;241m*\u001b[39m\u001b[38;5;241m*\u001b[39mkwargs)\n\u001b[0;32m    351\u001b[0m     \u001b[38;5;28;01melse\u001b[39;00m:\n\u001b[1;32m--> 352\u001b[0m         applied \u001b[38;5;241m=\u001b[39m \u001b[38;5;28mgetattr\u001b[39m(b, f)(\u001b[38;5;241m*\u001b[39m\u001b[38;5;241m*\u001b[39mkwargs)\n\u001b[0;32m    353\u001b[0m \u001b[38;5;28;01mexcept\u001b[39;00m (\u001b[38;5;167;01mTypeError\u001b[39;00m, \u001b[38;5;167;01mNotImplementedError\u001b[39;00m):\n\u001b[0;32m    354\u001b[0m     \u001b[38;5;28;01mif\u001b[39;00m \u001b[38;5;129;01mnot\u001b[39;00m ignore_failures:\n",
      "File \u001b[1;32m~\\anaconda3\\lib\\site-packages\\pandas\\core\\internals\\blocks.py:526\u001b[0m, in \u001b[0;36mBlock.astype\u001b[1;34m(self, dtype, copy, errors)\u001b[0m\n\u001b[0;32m    508\u001b[0m \u001b[38;5;124;03m\"\"\"\u001b[39;00m\n\u001b[0;32m    509\u001b[0m \u001b[38;5;124;03mCoerce to the new dtype.\u001b[39;00m\n\u001b[0;32m    510\u001b[0m \n\u001b[1;32m   (...)\u001b[0m\n\u001b[0;32m    522\u001b[0m \u001b[38;5;124;03mBlock\u001b[39;00m\n\u001b[0;32m    523\u001b[0m \u001b[38;5;124;03m\"\"\"\u001b[39;00m\n\u001b[0;32m    524\u001b[0m values \u001b[38;5;241m=\u001b[39m \u001b[38;5;28mself\u001b[39m\u001b[38;5;241m.\u001b[39mvalues\n\u001b[1;32m--> 526\u001b[0m new_values \u001b[38;5;241m=\u001b[39m \u001b[43mastype_array_safe\u001b[49m\u001b[43m(\u001b[49m\u001b[43mvalues\u001b[49m\u001b[43m,\u001b[49m\u001b[43m \u001b[49m\u001b[43mdtype\u001b[49m\u001b[43m,\u001b[49m\u001b[43m \u001b[49m\u001b[43mcopy\u001b[49m\u001b[38;5;241;43m=\u001b[39;49m\u001b[43mcopy\u001b[49m\u001b[43m,\u001b[49m\u001b[43m \u001b[49m\u001b[43merrors\u001b[49m\u001b[38;5;241;43m=\u001b[39;49m\u001b[43merrors\u001b[49m\u001b[43m)\u001b[49m\n\u001b[0;32m    528\u001b[0m new_values \u001b[38;5;241m=\u001b[39m maybe_coerce_values(new_values)\n\u001b[0;32m    529\u001b[0m newb \u001b[38;5;241m=\u001b[39m \u001b[38;5;28mself\u001b[39m\u001b[38;5;241m.\u001b[39mmake_block(new_values)\n",
      "File \u001b[1;32m~\\anaconda3\\lib\\site-packages\\pandas\\core\\dtypes\\astype.py:299\u001b[0m, in \u001b[0;36mastype_array_safe\u001b[1;34m(values, dtype, copy, errors)\u001b[0m\n\u001b[0;32m    296\u001b[0m     \u001b[38;5;28;01mreturn\u001b[39;00m values\u001b[38;5;241m.\u001b[39mcopy()\n\u001b[0;32m    298\u001b[0m \u001b[38;5;28;01mtry\u001b[39;00m:\n\u001b[1;32m--> 299\u001b[0m     new_values \u001b[38;5;241m=\u001b[39m \u001b[43mastype_array\u001b[49m\u001b[43m(\u001b[49m\u001b[43mvalues\u001b[49m\u001b[43m,\u001b[49m\u001b[43m \u001b[49m\u001b[43mdtype\u001b[49m\u001b[43m,\u001b[49m\u001b[43m \u001b[49m\u001b[43mcopy\u001b[49m\u001b[38;5;241;43m=\u001b[39;49m\u001b[43mcopy\u001b[49m\u001b[43m)\u001b[49m\n\u001b[0;32m    300\u001b[0m \u001b[38;5;28;01mexcept\u001b[39;00m (\u001b[38;5;167;01mValueError\u001b[39;00m, \u001b[38;5;167;01mTypeError\u001b[39;00m):\n\u001b[0;32m    301\u001b[0m     \u001b[38;5;66;03m# e.g. astype_nansafe can fail on object-dtype of strings\u001b[39;00m\n\u001b[0;32m    302\u001b[0m     \u001b[38;5;66;03m#  trying to convert to float\u001b[39;00m\n\u001b[0;32m    303\u001b[0m     \u001b[38;5;28;01mif\u001b[39;00m errors \u001b[38;5;241m==\u001b[39m \u001b[38;5;124m\"\u001b[39m\u001b[38;5;124mignore\u001b[39m\u001b[38;5;124m\"\u001b[39m:\n",
      "File \u001b[1;32m~\\anaconda3\\lib\\site-packages\\pandas\\core\\dtypes\\astype.py:230\u001b[0m, in \u001b[0;36mastype_array\u001b[1;34m(values, dtype, copy)\u001b[0m\n\u001b[0;32m    227\u001b[0m     values \u001b[38;5;241m=\u001b[39m values\u001b[38;5;241m.\u001b[39mastype(dtype, copy\u001b[38;5;241m=\u001b[39mcopy)\n\u001b[0;32m    229\u001b[0m \u001b[38;5;28;01melse\u001b[39;00m:\n\u001b[1;32m--> 230\u001b[0m     values \u001b[38;5;241m=\u001b[39m \u001b[43mastype_nansafe\u001b[49m\u001b[43m(\u001b[49m\u001b[43mvalues\u001b[49m\u001b[43m,\u001b[49m\u001b[43m \u001b[49m\u001b[43mdtype\u001b[49m\u001b[43m,\u001b[49m\u001b[43m \u001b[49m\u001b[43mcopy\u001b[49m\u001b[38;5;241;43m=\u001b[39;49m\u001b[43mcopy\u001b[49m\u001b[43m)\u001b[49m\n\u001b[0;32m    232\u001b[0m \u001b[38;5;66;03m# in pandas we don't store numpy str dtypes, so convert to object\u001b[39;00m\n\u001b[0;32m    233\u001b[0m \u001b[38;5;28;01mif\u001b[39;00m \u001b[38;5;28misinstance\u001b[39m(dtype, np\u001b[38;5;241m.\u001b[39mdtype) \u001b[38;5;129;01mand\u001b[39;00m \u001b[38;5;28missubclass\u001b[39m(values\u001b[38;5;241m.\u001b[39mdtype\u001b[38;5;241m.\u001b[39mtype, \u001b[38;5;28mstr\u001b[39m):\n",
      "File \u001b[1;32m~\\anaconda3\\lib\\site-packages\\pandas\\core\\dtypes\\astype.py:170\u001b[0m, in \u001b[0;36mastype_nansafe\u001b[1;34m(arr, dtype, copy, skipna)\u001b[0m\n\u001b[0;32m    166\u001b[0m     \u001b[38;5;28;01mraise\u001b[39;00m \u001b[38;5;167;01mValueError\u001b[39;00m(msg)\n\u001b[0;32m    168\u001b[0m \u001b[38;5;28;01mif\u001b[39;00m copy \u001b[38;5;129;01mor\u001b[39;00m is_object_dtype(arr\u001b[38;5;241m.\u001b[39mdtype) \u001b[38;5;129;01mor\u001b[39;00m is_object_dtype(dtype):\n\u001b[0;32m    169\u001b[0m     \u001b[38;5;66;03m# Explicit copy, or required since NumPy can't view from / to object.\u001b[39;00m\n\u001b[1;32m--> 170\u001b[0m     \u001b[38;5;28;01mreturn\u001b[39;00m \u001b[43marr\u001b[49m\u001b[38;5;241;43m.\u001b[39;49m\u001b[43mastype\u001b[49m\u001b[43m(\u001b[49m\u001b[43mdtype\u001b[49m\u001b[43m,\u001b[49m\u001b[43m \u001b[49m\u001b[43mcopy\u001b[49m\u001b[38;5;241;43m=\u001b[39;49m\u001b[38;5;28;43;01mTrue\u001b[39;49;00m\u001b[43m)\u001b[49m\n\u001b[0;32m    172\u001b[0m \u001b[38;5;28;01mreturn\u001b[39;00m arr\u001b[38;5;241m.\u001b[39mastype(dtype, copy\u001b[38;5;241m=\u001b[39mcopy)\n",
      "\u001b[1;31mValueError\u001b[0m: could not convert string to float: ' '"
     ]
    }
   ],
   "source": []
  },
  {
   "cell_type": "code",
   "execution_count": 25,
   "id": "fd8d59a9-367d-487b-a0ea-8732047bd518",
   "metadata": {},
   "outputs": [],
   "source": [
    "#reading in another weather dataset, to see if I come across the same data typing issues\n",
    "irish_weather_2 = pd.read_csv('aggregated_hourly_data.csv', low_memory = False)"
   ]
  },
  {
   "cell_type": "code",
   "execution_count": null,
   "id": "0ec75452-3514-4bbb-9f15-5fad8144169d",
   "metadata": {},
   "outputs": [],
   "source": []
  }
 ],
 "metadata": {
  "kernelspec": {
   "display_name": "Python 3 (ipykernel)",
   "language": "python",
   "name": "python3"
  },
  "language_info": {
   "codemirror_mode": {
    "name": "ipython",
    "version": 3
   },
   "file_extension": ".py",
   "mimetype": "text/x-python",
   "name": "python",
   "nbconvert_exporter": "python",
   "pygments_lexer": "ipython3",
   "version": "3.10.9"
  }
 },
 "nbformat": 4,
 "nbformat_minor": 5
}
